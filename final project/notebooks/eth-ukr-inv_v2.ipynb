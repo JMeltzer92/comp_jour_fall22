{
  "cells": [
    {
      "cell_type": "markdown",
      "metadata": {
        "id": "OT80dg9rNvJf"
      },
      "source": [
        "# Setup"
      ]
    },
    {
      "cell_type": "markdown",
      "metadata": {
        "id": "myaNdVBBN5Yu"
      },
      "source": [
        "### Libraries and Packages"
      ]
    },
    {
      "cell_type": "code",
      "execution_count": 1,
      "metadata": {
        "id": "o7CNgF80NE4R"
      },
      "outputs": [],
      "source": [
        "import pandas as pd\n",
        "import datetime\n",
        "from IPython.display import HTML, display"
      ]
    },
    {
      "cell_type": "markdown",
      "metadata": {
        "id": "a3fvfkTsN-Qe"
      },
      "source": [
        "### Import Data\n"
      ]
    },
    {
      "cell_type": "code",
      "execution_count": 30,
      "metadata": {
        "colab": {
          "base_uri": "https://localhost:8080/",
          "height": 70
        },
        "id": "hlg-GPplNO6z",
        "outputId": "5b965600-92e9-4818-fc69-c9a16342a3f7"
      },
      "outputs": [
        {
          "name": "stderr",
          "output_type": "stream",
          "text": [
            "C:\\Users\\Jon\\AppData\\Local\\Temp\\ipykernel_24928\\991624813.py:2: FutureWarning: In a future version of pandas all arguments of read_csv except for the argument 'filepath_or_buffer' will be keyword-only.\n",
            "  eth = pd.read_csv(r'C:\\Users\\Jon\\Documents\\GitHub\\comp_jour_fall22\\final project\\data\\ethiopia.csv',',')\n",
            "C:\\Users\\Jon\\AppData\\Local\\Temp\\ipykernel_24928\\991624813.py:5: FutureWarning: In a future version of pandas all arguments of read_csv except for the argument 'filepath_or_buffer' will be keyword-only.\n",
            "  ukr = pd.read_csv(r'C:\\Users\\Jon\\Documents\\GitHub\\comp_jour_fall22\\final project\\data\\ukraine.csv',',')\n",
            "C:\\Users\\Jon\\AppData\\Local\\Temp\\ipykernel_24928\\991624813.py:8: FutureWarning: In a future version of pandas all arguments of read_csv except for the argument 'filepath_or_buffer' will be keyword-only.\n",
            "  nyt = pd.read_csv(r'C:\\Users\\Jon\\Documents\\GitHub\\comp_jour_fall22\\final project\\data\\times.csv',',')\n"
          ]
        }
      ],
      "source": [
        "# ACLED Ethiopia - for conflict analysis\n",
        "eth = pd.read_csv(r'C:\\Users\\Jon\\Documents\\GitHub\\comp_jour_fall22\\final project\\data\\ethiopia.csv',',')\n",
        "\n",
        "# ACLED Ukraine - for conflict analysis\n",
        "ukr = pd.read_csv(r'C:\\Users\\Jon\\Documents\\GitHub\\comp_jour_fall22\\final project\\data\\ukraine.csv',',')\n",
        "\n",
        "# NYT Metadata - for news trend analysis\n",
        "nyt = pd.read_csv(r'C:\\Users\\Jon\\Documents\\GitHub\\comp_jour_fall22\\final project\\data\\times.csv',',')"
      ]
    },
    {
      "cell_type": "code",
      "execution_count": 31,
      "metadata": {
        "colab": {
          "base_uri": "https://localhost:8080/",
          "height": 468
        },
        "id": "HhW_isdcHItg",
        "outputId": "5bd2de26-59f0-4f27-ff76-fd07a2dd14ba"
      },
      "outputs": [
        {
          "data": {
            "text/html": [
              "<div>\n",
              "<style scoped>\n",
              "    .dataframe tbody tr th:only-of-type {\n",
              "        vertical-align: middle;\n",
              "    }\n",
              "\n",
              "    .dataframe tbody tr th {\n",
              "        vertical-align: top;\n",
              "    }\n",
              "\n",
              "    .dataframe thead th {\n",
              "        text-align: right;\n",
              "    }\n",
              "</style>\n",
              "<table border=\"1\" class=\"dataframe\">\n",
              "  <thead>\n",
              "    <tr style=\"text-align: right;\">\n",
              "      <th></th>\n",
              "      <th>headline</th>\n",
              "      <th>date</th>\n",
              "      <th>doc_type</th>\n",
              "      <th>material_type</th>\n",
              "      <th>section</th>\n",
              "      <th>keywords</th>\n",
              "    </tr>\n",
              "  </thead>\n",
              "  <tbody>\n",
              "    <tr>\n",
              "      <th>0</th>\n",
              "      <td>A Year of Devastation in Arizona’s Wild Lands</td>\n",
              "      <td>11/2/2020</td>\n",
              "      <td>article</td>\n",
              "      <td>Op-Ed</td>\n",
              "      <td>NaN</td>\n",
              "      <td>['Border Barriers', 'Endangered and Extinct Sp...</td>\n",
              "    </tr>\n",
              "    <tr>\n",
              "      <th>1</th>\n",
              "      <td>Trump Backers Block Highways as Election Tensi...</td>\n",
              "      <td>11/2/2020</td>\n",
              "      <td>article</td>\n",
              "      <td>News</td>\n",
              "      <td>NaN</td>\n",
              "      <td>['Presidential Election of 2020', 'Demonstrati...</td>\n",
              "    </tr>\n",
              "    <tr>\n",
              "      <th>2</th>\n",
              "      <td>In Dash to Finish, Biden and Trump Set Up Show...</td>\n",
              "      <td>11/2/2020</td>\n",
              "      <td>article</td>\n",
              "      <td>News</td>\n",
              "      <td>NaN</td>\n",
              "      <td>['Presidential Election of 2020', 'United Stat...</td>\n",
              "    </tr>\n",
              "    <tr>\n",
              "      <th>3</th>\n",
              "      <td>No Corrections: Nov. 2, 2020</td>\n",
              "      <td>11/2/2020</td>\n",
              "      <td>article</td>\n",
              "      <td>News</td>\n",
              "      <td>NaN</td>\n",
              "      <td>[]</td>\n",
              "    </tr>\n",
              "    <tr>\n",
              "      <th>4</th>\n",
              "      <td>It’s the End of an Era for the Media, No Matte...</td>\n",
              "      <td>11/2/2020</td>\n",
              "      <td>article</td>\n",
              "      <td>News</td>\n",
              "      <td>NaN</td>\n",
              "      <td>['News and News Media', 'Appointments and Exec...</td>\n",
              "    </tr>\n",
              "    <tr>\n",
              "      <th>...</th>\n",
              "      <td>...</td>\n",
              "      <td>...</td>\n",
              "      <td>...</td>\n",
              "      <td>...</td>\n",
              "      <td>...</td>\n",
              "      <td>...</td>\n",
              "    </tr>\n",
              "    <tr>\n",
              "      <th>103198</th>\n",
              "      <td>Sunak’s Ascent Is a Breakthrough for Diversity...</td>\n",
              "      <td>10/24/2022</td>\n",
              "      <td>article</td>\n",
              "      <td>News</td>\n",
              "      <td>NaN</td>\n",
              "      <td>['Elections', 'Politics and Government', 'Poll...</td>\n",
              "    </tr>\n",
              "    <tr>\n",
              "      <th>103199</th>\n",
              "      <td>Lawmakers’ Report Says Philadelphia D.A.’s Pol...</td>\n",
              "      <td>10/24/2022</td>\n",
              "      <td>article</td>\n",
              "      <td>News</td>\n",
              "      <td>NaN</td>\n",
              "      <td>['District Attorneys', 'State Legislatures']</td>\n",
              "    </tr>\n",
              "    <tr>\n",
              "      <th>103200</th>\n",
              "      <td>Justice Dept. Charges 2 Chinese Citizens With ...</td>\n",
              "      <td>10/24/2022</td>\n",
              "      <td>article</td>\n",
              "      <td>News</td>\n",
              "      <td>NaN</td>\n",
              "      <td>['Elections', 'Politics and Government', 'Unit...</td>\n",
              "    </tr>\n",
              "    <tr>\n",
              "      <th>103201</th>\n",
              "      <td>Western Officials Warn Russia Could Use a Dirt...</td>\n",
              "      <td>10/24/2022</td>\n",
              "      <td>article</td>\n",
              "      <td>News</td>\n",
              "      <td>NaN</td>\n",
              "      <td>['Russian Invasion of Ukraine (2022)', 'Defens...</td>\n",
              "    </tr>\n",
              "    <tr>\n",
              "      <th>103202</th>\n",
              "      <td>Man Who Sold Gun Used in Synagogue Standoff Ge...</td>\n",
              "      <td>10/24/2022</td>\n",
              "      <td>article</td>\n",
              "      <td>News</td>\n",
              "      <td>NaN</td>\n",
              "      <td>['Terrorism', 'Firearms', 'Kidnapping and Host...</td>\n",
              "    </tr>\n",
              "  </tbody>\n",
              "</table>\n",
              "<p>103203 rows × 6 columns</p>\n",
              "</div>"
            ],
            "text/plain": [
              "                                                 headline        date  \\\n",
              "0           A Year of Devastation in Arizona’s Wild Lands   11/2/2020   \n",
              "1       Trump Backers Block Highways as Election Tensi...   11/2/2020   \n",
              "2       In Dash to Finish, Biden and Trump Set Up Show...   11/2/2020   \n",
              "3                            No Corrections: Nov. 2, 2020   11/2/2020   \n",
              "4       It’s the End of an Era for the Media, No Matte...   11/2/2020   \n",
              "...                                                   ...         ...   \n",
              "103198  Sunak’s Ascent Is a Breakthrough for Diversity...  10/24/2022   \n",
              "103199  Lawmakers’ Report Says Philadelphia D.A.’s Pol...  10/24/2022   \n",
              "103200  Justice Dept. Charges 2 Chinese Citizens With ...  10/24/2022   \n",
              "103201  Western Officials Warn Russia Could Use a Dirt...  10/24/2022   \n",
              "103202  Man Who Sold Gun Used in Synagogue Standoff Ge...  10/24/2022   \n",
              "\n",
              "       doc_type material_type  section  \\\n",
              "0       article         Op-Ed      NaN   \n",
              "1       article          News      NaN   \n",
              "2       article          News      NaN   \n",
              "3       article          News      NaN   \n",
              "4       article          News      NaN   \n",
              "...         ...           ...      ...   \n",
              "103198  article          News      NaN   \n",
              "103199  article          News      NaN   \n",
              "103200  article          News      NaN   \n",
              "103201  article          News      NaN   \n",
              "103202  article          News      NaN   \n",
              "\n",
              "                                                 keywords  \n",
              "0       ['Border Barriers', 'Endangered and Extinct Sp...  \n",
              "1       ['Presidential Election of 2020', 'Demonstrati...  \n",
              "2       ['Presidential Election of 2020', 'United Stat...  \n",
              "3                                                      []  \n",
              "4       ['News and News Media', 'Appointments and Exec...  \n",
              "...                                                   ...  \n",
              "103198  ['Elections', 'Politics and Government', 'Poll...  \n",
              "103199       ['District Attorneys', 'State Legislatures']  \n",
              "103200  ['Elections', 'Politics and Government', 'Unit...  \n",
              "103201  ['Russian Invasion of Ukraine (2022)', 'Defens...  \n",
              "103202  ['Terrorism', 'Firearms', 'Kidnapping and Host...  \n",
              "\n",
              "[103203 rows x 6 columns]"
            ]
          },
          "execution_count": 31,
          "metadata": {},
          "output_type": "execute_result"
        }
      ],
      "source": [
        "nyt"
      ]
    },
    {
      "cell_type": "markdown",
      "metadata": {
        "id": "Ec1wZZNtcKBA"
      },
      "source": [
        "### Formatting"
      ]
    },
    {
      "cell_type": "code",
      "execution_count": 11,
      "metadata": {
        "colab": {
          "base_uri": "https://localhost:8080/",
          "height": 17
        },
        "id": "7u1Ju3_tSwpj",
        "outputId": "db6f0444-e761-46b7-9e28-8ccd1a3711a1"
      },
      "outputs": [],
      "source": [
        "# Dates\n",
        "\n",
        "eth['event_date'] = pd.to_datetime(eth['event_date'],format = '%d %B %Y')\n",
        "eth['year'] = pd.to_datetime(eth['year'], format = '%Y')\n",
        "ukr['event_date'] = pd.to_datetime(ukr['event_date'],format = '%d %B %Y')\n",
        "ukr['year'] = pd.to_datetime(ukr['year'], format = '%Y')\n",
        "nyt['date'] = pd.to_datetime(nyt['date'],format = '%m/%d/%Y')\n",
        "nyt['headline'] = nyt['headline'].to_string()\n",
        "\n",
        "# IDs\n",
        "\n",
        "convert_dict = {\n",
        "    'data_id' : str,\n",
        "    'event_id_no_cnty' : str,\n",
        "    'inter1' : str,\n",
        "    'inter2' : str,\n",
        "    'interaction' : str\n",
        "}\n",
        "\n",
        "eth = eth.astype(convert_dict)\n",
        "ukr = ukr.astype(convert_dict)"
      ]
    },
    {
      "cell_type": "markdown",
      "metadata": {
        "id": "lnM1u7AOPMCm"
      },
      "source": [
        "# Exploratory Analysis"
      ]
    },
    {
      "cell_type": "markdown",
      "metadata": {
        "id": "zQhyBH9DPOvn"
      },
      "source": [
        "### Basic Fact-finding - Ukraine vs. Ethiopia"
      ]
    },
    {
      "cell_type": "code",
      "execution_count": 12,
      "metadata": {
        "colab": {
          "base_uri": "https://localhost:8080/",
          "height": 35
        },
        "id": "efqSKJ7gO6Y_",
        "outputId": "63dd213c-0abe-4e38-8766-94749880b830"
      },
      "outputs": [
        {
          "data": {
            "text/plain": [
              "(3566, 31)"
            ]
          },
          "execution_count": 12,
          "metadata": {},
          "output_type": "execute_result"
        }
      ],
      "source": [
        "eth.shape"
      ]
    },
    {
      "cell_type": "code",
      "execution_count": 13,
      "metadata": {
        "colab": {
          "base_uri": "https://localhost:8080/",
          "height": 300
        },
        "id": "Cx8Zv5TwR8PH",
        "outputId": "96201848-81e0-48d2-d74e-d3d64a0ed539"
      },
      "outputs": [
        {
          "data": {
            "text/html": [
              "<div>\n",
              "<style scoped>\n",
              "    .dataframe tbody tr th:only-of-type {\n",
              "        vertical-align: middle;\n",
              "    }\n",
              "\n",
              "    .dataframe tbody tr th {\n",
              "        vertical-align: top;\n",
              "    }\n",
              "\n",
              "    .dataframe thead th {\n",
              "        text-align: right;\n",
              "    }\n",
              "</style>\n",
              "<table border=\"1\" class=\"dataframe\">\n",
              "  <thead>\n",
              "    <tr style=\"text-align: right;\">\n",
              "      <th></th>\n",
              "      <th>iso</th>\n",
              "      <th>time_precision</th>\n",
              "      <th>latitude</th>\n",
              "      <th>longitude</th>\n",
              "      <th>geo_precision</th>\n",
              "      <th>fatalities</th>\n",
              "      <th>timestamp</th>\n",
              "    </tr>\n",
              "  </thead>\n",
              "  <tbody>\n",
              "    <tr>\n",
              "      <th>count</th>\n",
              "      <td>3566.0</td>\n",
              "      <td>3566.000000</td>\n",
              "      <td>3566.000000</td>\n",
              "      <td>3566.000000</td>\n",
              "      <td>3566.000000</td>\n",
              "      <td>3566.000000</td>\n",
              "      <td>3.566000e+03</td>\n",
              "    </tr>\n",
              "    <tr>\n",
              "      <th>mean</th>\n",
              "      <td>231.0</td>\n",
              "      <td>1.535614</td>\n",
              "      <td>11.032138</td>\n",
              "      <td>38.463511</td>\n",
              "      <td>1.566181</td>\n",
              "      <td>5.090297</td>\n",
              "      <td>1.644033e+09</td>\n",
              "    </tr>\n",
              "    <tr>\n",
              "      <th>std</th>\n",
              "      <td>0.0</td>\n",
              "      <td>0.766584</td>\n",
              "      <td>2.431685</td>\n",
              "      <td>1.622998</td>\n",
              "      <td>0.521052</td>\n",
              "      <td>19.436587</td>\n",
              "      <td>1.324255e+07</td>\n",
              "    </tr>\n",
              "    <tr>\n",
              "      <th>min</th>\n",
              "      <td>231.0</td>\n",
              "      <td>1.000000</td>\n",
              "      <td>3.539100</td>\n",
              "      <td>33.205100</td>\n",
              "      <td>1.000000</td>\n",
              "      <td>0.000000</td>\n",
              "      <td>1.610410e+09</td>\n",
              "    </tr>\n",
              "    <tr>\n",
              "      <th>25%</th>\n",
              "      <td>231.0</td>\n",
              "      <td>1.000000</td>\n",
              "      <td>9.312200</td>\n",
              "      <td>37.483300</td>\n",
              "      <td>1.000000</td>\n",
              "      <td>0.000000</td>\n",
              "      <td>1.639526e+09</td>\n",
              "    </tr>\n",
              "    <tr>\n",
              "      <th>50%</th>\n",
              "      <td>231.0</td>\n",
              "      <td>1.000000</td>\n",
              "      <td>11.267000</td>\n",
              "      <td>38.757300</td>\n",
              "      <td>2.000000</td>\n",
              "      <td>0.000000</td>\n",
              "      <td>1.639586e+09</td>\n",
              "    </tr>\n",
              "    <tr>\n",
              "      <th>75%</th>\n",
              "      <td>231.0</td>\n",
              "      <td>2.000000</td>\n",
              "      <td>13.322600</td>\n",
              "      <td>39.591600</td>\n",
              "      <td>2.000000</td>\n",
              "      <td>3.000000</td>\n",
              "      <td>1.653948e+09</td>\n",
              "    </tr>\n",
              "    <tr>\n",
              "      <th>max</th>\n",
              "      <td>231.0</td>\n",
              "      <td>3.000000</td>\n",
              "      <td>14.695300</td>\n",
              "      <td>45.340800</td>\n",
              "      <td>3.000000</td>\n",
              "      <td>600.000000</td>\n",
              "      <td>1.667851e+09</td>\n",
              "    </tr>\n",
              "  </tbody>\n",
              "</table>\n",
              "</div>"
            ],
            "text/plain": [
              "          iso  time_precision     latitude    longitude  geo_precision  \\\n",
              "count  3566.0     3566.000000  3566.000000  3566.000000    3566.000000   \n",
              "mean    231.0        1.535614    11.032138    38.463511       1.566181   \n",
              "std       0.0        0.766584     2.431685     1.622998       0.521052   \n",
              "min     231.0        1.000000     3.539100    33.205100       1.000000   \n",
              "25%     231.0        1.000000     9.312200    37.483300       1.000000   \n",
              "50%     231.0        1.000000    11.267000    38.757300       2.000000   \n",
              "75%     231.0        2.000000    13.322600    39.591600       2.000000   \n",
              "max     231.0        3.000000    14.695300    45.340800       3.000000   \n",
              "\n",
              "        fatalities     timestamp  \n",
              "count  3566.000000  3.566000e+03  \n",
              "mean      5.090297  1.644033e+09  \n",
              "std      19.436587  1.324255e+07  \n",
              "min       0.000000  1.610410e+09  \n",
              "25%       0.000000  1.639526e+09  \n",
              "50%       0.000000  1.639586e+09  \n",
              "75%       3.000000  1.653948e+09  \n",
              "max     600.000000  1.667851e+09  "
            ]
          },
          "execution_count": 13,
          "metadata": {},
          "output_type": "execute_result"
        }
      ],
      "source": [
        "eth.describe()"
      ]
    },
    {
      "cell_type": "code",
      "execution_count": 14,
      "metadata": {
        "colab": {
          "base_uri": "https://localhost:8080/",
          "height": 141
        },
        "id": "pw-QLbuhS1uP",
        "outputId": "58f50c6a-38a8-45f1-f4f0-c79cc0e14996"
      },
      "outputs": [
        {
          "data": {
            "text/plain": [
              "headline                 object\n",
              "date             datetime64[ns]\n",
              "doc_type                 object\n",
              "material_type            object\n",
              "section                 float64\n",
              "keywords                 object\n",
              "dtype: object"
            ]
          },
          "execution_count": 14,
          "metadata": {},
          "output_type": "execute_result"
        }
      ],
      "source": [
        "nyt.dtypes"
      ]
    },
    {
      "cell_type": "code",
      "execution_count": 15,
      "metadata": {
        "colab": {
          "base_uri": "https://localhost:8080/",
          "height": 35
        },
        "id": "fg6_PDz7PmyA",
        "outputId": "f02fb2b5-2172-4135-e3ba-e190bc812adc"
      },
      "outputs": [
        {
          "data": {
            "text/plain": [
              "(38507, 31)"
            ]
          },
          "execution_count": 15,
          "metadata": {},
          "output_type": "execute_result"
        }
      ],
      "source": [
        "ukr.shape"
      ]
    },
    {
      "cell_type": "code",
      "execution_count": 16,
      "metadata": {
        "colab": {
          "base_uri": "https://localhost:8080/",
          "height": 300
        },
        "id": "Lnc388rxR_6p",
        "outputId": "a7245c4e-87c8-41a1-d6a3-96739a954a66"
      },
      "outputs": [
        {
          "data": {
            "text/html": [
              "<div>\n",
              "<style scoped>\n",
              "    .dataframe tbody tr th:only-of-type {\n",
              "        vertical-align: middle;\n",
              "    }\n",
              "\n",
              "    .dataframe tbody tr th {\n",
              "        vertical-align: top;\n",
              "    }\n",
              "\n",
              "    .dataframe thead th {\n",
              "        text-align: right;\n",
              "    }\n",
              "</style>\n",
              "<table border=\"1\" class=\"dataframe\">\n",
              "  <thead>\n",
              "    <tr style=\"text-align: right;\">\n",
              "      <th></th>\n",
              "      <th>iso</th>\n",
              "      <th>time_precision</th>\n",
              "      <th>latitude</th>\n",
              "      <th>longitude</th>\n",
              "      <th>geo_precision</th>\n",
              "      <th>fatalities</th>\n",
              "      <th>timestamp</th>\n",
              "    </tr>\n",
              "  </thead>\n",
              "  <tbody>\n",
              "    <tr>\n",
              "      <th>count</th>\n",
              "      <td>38507.0</td>\n",
              "      <td>38507.000000</td>\n",
              "      <td>38507.000000</td>\n",
              "      <td>38507.000000</td>\n",
              "      <td>38507.000000</td>\n",
              "      <td>38507.000000</td>\n",
              "      <td>3.850700e+04</td>\n",
              "    </tr>\n",
              "    <tr>\n",
              "      <th>mean</th>\n",
              "      <td>804.0</td>\n",
              "      <td>1.014283</td>\n",
              "      <td>48.475363</td>\n",
              "      <td>36.328016</td>\n",
              "      <td>1.639988</td>\n",
              "      <td>0.530994</td>\n",
              "      <td>1.651426e+09</td>\n",
              "    </tr>\n",
              "    <tr>\n",
              "      <th>std</th>\n",
              "      <td>0.0</td>\n",
              "      <td>0.140687</td>\n",
              "      <td>1.175126</td>\n",
              "      <td>2.619424</td>\n",
              "      <td>0.524776</td>\n",
              "      <td>6.410213</td>\n",
              "      <td>1.464968e+07</td>\n",
              "    </tr>\n",
              "    <tr>\n",
              "      <th>min</th>\n",
              "      <td>804.0</td>\n",
              "      <td>1.000000</td>\n",
              "      <td>43.389000</td>\n",
              "      <td>22.300000</td>\n",
              "      <td>1.000000</td>\n",
              "      <td>0.000000</td>\n",
              "      <td>1.618436e+09</td>\n",
              "    </tr>\n",
              "    <tr>\n",
              "      <th>25%</th>\n",
              "      <td>804.0</td>\n",
              "      <td>1.000000</td>\n",
              "      <td>47.697500</td>\n",
              "      <td>35.517900</td>\n",
              "      <td>1.000000</td>\n",
              "      <td>0.000000</td>\n",
              "      <td>1.646174e+09</td>\n",
              "    </tr>\n",
              "    <tr>\n",
              "      <th>50%</th>\n",
              "      <td>804.0</td>\n",
              "      <td>1.000000</td>\n",
              "      <td>48.338000</td>\n",
              "      <td>37.571000</td>\n",
              "      <td>2.000000</td>\n",
              "      <td>0.000000</td>\n",
              "      <td>1.656436e+09</td>\n",
              "    </tr>\n",
              "    <tr>\n",
              "      <th>75%</th>\n",
              "      <td>804.0</td>\n",
              "      <td>1.000000</td>\n",
              "      <td>48.946700</td>\n",
              "      <td>37.942000</td>\n",
              "      <td>2.000000</td>\n",
              "      <td>0.000000</td>\n",
              "      <td>1.663096e+09</td>\n",
              "    </tr>\n",
              "    <tr>\n",
              "      <th>max</th>\n",
              "      <td>804.0</td>\n",
              "      <td>3.000000</td>\n",
              "      <td>52.341300</td>\n",
              "      <td>40.132200</td>\n",
              "      <td>3.000000</td>\n",
              "      <td>485.000000</td>\n",
              "      <td>1.667941e+09</td>\n",
              "    </tr>\n",
              "  </tbody>\n",
              "</table>\n",
              "</div>"
            ],
            "text/plain": [
              "           iso  time_precision      latitude     longitude  geo_precision  \\\n",
              "count  38507.0    38507.000000  38507.000000  38507.000000   38507.000000   \n",
              "mean     804.0        1.014283     48.475363     36.328016       1.639988   \n",
              "std        0.0        0.140687      1.175126      2.619424       0.524776   \n",
              "min      804.0        1.000000     43.389000     22.300000       1.000000   \n",
              "25%      804.0        1.000000     47.697500     35.517900       1.000000   \n",
              "50%      804.0        1.000000     48.338000     37.571000       2.000000   \n",
              "75%      804.0        1.000000     48.946700     37.942000       2.000000   \n",
              "max      804.0        3.000000     52.341300     40.132200       3.000000   \n",
              "\n",
              "         fatalities     timestamp  \n",
              "count  38507.000000  3.850700e+04  \n",
              "mean       0.530994  1.651426e+09  \n",
              "std        6.410213  1.464968e+07  \n",
              "min        0.000000  1.618436e+09  \n",
              "25%        0.000000  1.646174e+09  \n",
              "50%        0.000000  1.656436e+09  \n",
              "75%        0.000000  1.663096e+09  \n",
              "max      485.000000  1.667941e+09  "
            ]
          },
          "execution_count": 16,
          "metadata": {},
          "output_type": "execute_result"
        }
      ],
      "source": [
        "ukr.describe()"
      ]
    },
    {
      "cell_type": "markdown",
      "metadata": {
        "id": "SIr4cQq1STpB"
      },
      "source": [
        "So far, it looks like there is far more data for Ukraine than there is for Ethiopia - over 10 times more, in fact. This is surprising because the Ethiopian conflict has been going on for over a year longer than the fighting in Ukraine."
      ]
    },
    {
      "cell_type": "code",
      "execution_count": 18,
      "metadata": {
        "colab": {
          "base_uri": "https://localhost:8080/",
          "height": 70
        },
        "id": "fX7Ooa6OkFvG",
        "outputId": "75d78657-c2f6-474c-f4eb-67eab6cb38e7"
      },
      "outputs": [
        {
          "name": "stdout",
          "output_type": "stream",
          "text": [
            "(1101, 31) (2790, 31)\n",
            "Civilian-involved incidents comprise30.874929893438026% of all ACLED incidents in Ethiopia.\n",
            "Civilian-involved incidents comprise7.2454358947723785% of all ACLED incidents in Ukraine.\n"
          ]
        }
      ],
      "source": [
        "eth_civ = eth[eth.actor2 == 'Civilians (Ethiopia)']\n",
        "ukr_civ = ukr[ukr.actor2 == 'Civilians (Ukraine)']\n",
        "print(\n",
        "    eth_civ.shape,\n",
        "    ukr_civ.shape\n",
        ")\n",
        "print(\n",
        "    'Civilian-involved incidents comprise ',(len(eth_civ)/len(eth))*100,'% of all ACLED incidents in Ethiopia.','\\n',\n",
        "    'Civilian-involved incidents comprise ',(len(ukr_civ)/len(ukr))*100,'% of all ACLED incidents in Ukraine.',sep=''\n",
        ")"
      ]
    },
    {
      "cell_type": "markdown",
      "metadata": {
        "id": "oxBiShGSlNQE"
      },
      "source": [
        "When we filter by events where actor2 = Civilians, i.e. civilians were victims, we can see that a far greater percent of incidents targeted noncombatants in Ethiopia than in Ukraine. "
      ]
    },
    {
      "cell_type": "code",
      "execution_count": 19,
      "metadata": {
        "colab": {
          "base_uri": "https://localhost:8080/",
          "height": 17
        },
        "id": "H7NaORXWinon",
        "outputId": "b8fff254-dbc3-4818-d6ff-0cd00a5dfb0b"
      },
      "outputs": [],
      "source": [
        "eth_civ_acts = eth_civ.groupby(by = ['actor1']).count().sort_values(by = 'data_id',ascending = False)\n",
        "ukr_civ_acts = ukr_civ.groupby(by = ['actor1']).count().sort_values(by = 'data_id',ascending = False)"
      ]
    },
    {
      "cell_type": "code",
      "execution_count": 37,
      "metadata": {
        "colab": {
          "base_uri": "https://localhost:8080/",
          "height": 88
        },
        "id": "QMbnhw7rsP6O",
        "outputId": "d0d7efa2-794a-4afd-816b-102d842a66e9"
      },
      "outputs": [
        {
          "name": "stdout",
          "output_type": "stream",
          "text": [
            "The perpetrators of the most violence against civilians in Ukraine are Military Forces of Russia (2000-), Military Forces of Russia (2000-) Air Force and Unidentified Armed Group (Ukraine).\n",
            "The perpetrators of the most violence against civilians in Ukraine are TPLF: Tigray People's Liberation Front, Military Forces of Ethiopia (2018-) and OLF: Oromo Liberation Front (Shane Splinter Faction).\n"
          ]
        }
      ],
      "source": [
        "print(\n",
        "    'The perpetrators of the most violence against civilians in Ukraine are ',ukr_civ_acts.index[0],', ',ukr_civ_acts.index[1],' and ',ukr_civ_acts.index[2],'.\\nThe perpetrators of the most violence against civilians in Ukraine are ',eth_civ_acts.index[0],', ',eth_civ_acts.index[1],' and ',eth_civ_acts.index[2],'.',sep=''\n",
        ")"
      ]
    },
    {
      "cell_type": "code",
      "execution_count": 21,
      "metadata": {
        "colab": {
          "base_uri": "https://localhost:8080/",
          "height": 17
        },
        "id": "Hz2l9qHLw-Yg",
        "outputId": "824bbde7-2cc3-4bed-d2dc-57f269ce5dc1"
      },
      "outputs": [],
      "source": [
        "eth_ints = eth.loc[eth['fatalities'] > 0,['interaction','fatalities']].groupby(by = ['interaction']).count().sort_values(by = 'fatalities',ascending = False)\n",
        "ukr_ints = ukr.loc[ukr['fatalities'] > 0,['interaction','fatalities']].groupby(by = ['interaction']).count().sort_values(by = 'fatalities',ascending = False)\n"
      ]
    },
    {
      "cell_type": "code",
      "execution_count": 22,
      "metadata": {
        "colab": {
          "base_uri": "https://localhost:8080/",
          "height": 771
        },
        "id": "aWjQ_j8Vy7Ed",
        "outputId": "c8029881-736f-47d3-eae6-12e02eaa0cf3"
      },
      "outputs": [
        {
          "data": {
            "text/html": [
              "<div>\n",
              "<style scoped>\n",
              "    .dataframe tbody tr th:only-of-type {\n",
              "        vertical-align: middle;\n",
              "    }\n",
              "\n",
              "    .dataframe tbody tr th {\n",
              "        vertical-align: top;\n",
              "    }\n",
              "\n",
              "    .dataframe thead th {\n",
              "        text-align: right;\n",
              "    }\n",
              "</style>\n",
              "<table border=\"1\" class=\"dataframe\">\n",
              "  <thead>\n",
              "    <tr style=\"text-align: right;\">\n",
              "      <th></th>\n",
              "      <th>fatalities</th>\n",
              "    </tr>\n",
              "    <tr>\n",
              "      <th>interaction</th>\n",
              "      <th></th>\n",
              "    </tr>\n",
              "  </thead>\n",
              "  <tbody>\n",
              "    <tr>\n",
              "      <th>12</th>\n",
              "      <td>465</td>\n",
              "    </tr>\n",
              "    <tr>\n",
              "      <th>17</th>\n",
              "      <td>238</td>\n",
              "    </tr>\n",
              "    <tr>\n",
              "      <th>37</th>\n",
              "      <td>212</td>\n",
              "    </tr>\n",
              "    <tr>\n",
              "      <th>13</th>\n",
              "      <td>200</td>\n",
              "    </tr>\n",
              "    <tr>\n",
              "      <th>27</th>\n",
              "      <td>129</td>\n",
              "    </tr>\n",
              "    <tr>\n",
              "      <th>47</th>\n",
              "      <td>115</td>\n",
              "    </tr>\n",
              "    <tr>\n",
              "      <th>14</th>\n",
              "      <td>54</td>\n",
              "    </tr>\n",
              "    <tr>\n",
              "      <th>44</th>\n",
              "      <td>47</td>\n",
              "    </tr>\n",
              "    <tr>\n",
              "      <th>78</th>\n",
              "      <td>34</td>\n",
              "    </tr>\n",
              "    <tr>\n",
              "      <th>24</th>\n",
              "      <td>34</td>\n",
              "    </tr>\n",
              "    <tr>\n",
              "      <th>34</th>\n",
              "      <td>29</td>\n",
              "    </tr>\n",
              "    <tr>\n",
              "      <th>15</th>\n",
              "      <td>10</td>\n",
              "    </tr>\n",
              "    <tr>\n",
              "      <th>57</th>\n",
              "      <td>8</td>\n",
              "    </tr>\n",
              "    <tr>\n",
              "      <th>38</th>\n",
              "      <td>8</td>\n",
              "    </tr>\n",
              "    <tr>\n",
              "      <th>11</th>\n",
              "      <td>6</td>\n",
              "    </tr>\n",
              "    <tr>\n",
              "      <th>16</th>\n",
              "      <td>6</td>\n",
              "    </tr>\n",
              "    <tr>\n",
              "      <th>22</th>\n",
              "      <td>5</td>\n",
              "    </tr>\n",
              "    <tr>\n",
              "      <th>33</th>\n",
              "      <td>3</td>\n",
              "    </tr>\n",
              "    <tr>\n",
              "      <th>35</th>\n",
              "      <td>1</td>\n",
              "    </tr>\n",
              "    <tr>\n",
              "      <th>25</th>\n",
              "      <td>1</td>\n",
              "    </tr>\n",
              "    <tr>\n",
              "      <th>48</th>\n",
              "      <td>1</td>\n",
              "    </tr>\n",
              "    <tr>\n",
              "      <th>55</th>\n",
              "      <td>1</td>\n",
              "    </tr>\n",
              "  </tbody>\n",
              "</table>\n",
              "</div>"
            ],
            "text/plain": [
              "             fatalities\n",
              "interaction            \n",
              "12                  465\n",
              "17                  238\n",
              "37                  212\n",
              "13                  200\n",
              "27                  129\n",
              "47                  115\n",
              "14                   54\n",
              "44                   47\n",
              "78                   34\n",
              "24                   34\n",
              "34                   29\n",
              "15                   10\n",
              "57                    8\n",
              "38                    8\n",
              "11                    6\n",
              "16                    6\n",
              "22                    5\n",
              "33                    3\n",
              "35                    1\n",
              "25                    1\n",
              "48                    1\n",
              "55                    1"
            ]
          },
          "execution_count": 22,
          "metadata": {},
          "output_type": "execute_result"
        }
      ],
      "source": [
        "eth_ints"
      ]
    },
    {
      "cell_type": "code",
      "execution_count": 23,
      "metadata": {
        "colab": {
          "base_uri": "https://localhost:8080/",
          "height": 645
        },
        "id": "TUiWu4EUdOEZ",
        "outputId": "e859eda5-45d2-4a22-8a45-172a2f4b4e9a"
      },
      "outputs": [
        {
          "data": {
            "text/html": [
              "<div>\n",
              "<style scoped>\n",
              "    .dataframe tbody tr th:only-of-type {\n",
              "        vertical-align: middle;\n",
              "    }\n",
              "\n",
              "    .dataframe tbody tr th {\n",
              "        vertical-align: top;\n",
              "    }\n",
              "\n",
              "    .dataframe thead th {\n",
              "        text-align: right;\n",
              "    }\n",
              "</style>\n",
              "<table border=\"1\" class=\"dataframe\">\n",
              "  <thead>\n",
              "    <tr style=\"text-align: right;\">\n",
              "      <th></th>\n",
              "      <th>fatalities</th>\n",
              "    </tr>\n",
              "    <tr>\n",
              "      <th>interaction</th>\n",
              "      <th></th>\n",
              "    </tr>\n",
              "  </thead>\n",
              "  <tbody>\n",
              "    <tr>\n",
              "      <th>78</th>\n",
              "      <td>1265</td>\n",
              "    </tr>\n",
              "    <tr>\n",
              "      <th>18</th>\n",
              "      <td>711</td>\n",
              "    </tr>\n",
              "    <tr>\n",
              "      <th>12</th>\n",
              "      <td>444</td>\n",
              "    </tr>\n",
              "    <tr>\n",
              "      <th>17</th>\n",
              "      <td>27</td>\n",
              "    </tr>\n",
              "    <tr>\n",
              "      <th>37</th>\n",
              "      <td>15</td>\n",
              "    </tr>\n",
              "    <tr>\n",
              "      <th>13</th>\n",
              "      <td>14</td>\n",
              "    </tr>\n",
              "    <tr>\n",
              "      <th>80</th>\n",
              "      <td>14</td>\n",
              "    </tr>\n",
              "    <tr>\n",
              "      <th>48</th>\n",
              "      <td>12</td>\n",
              "    </tr>\n",
              "    <tr>\n",
              "      <th>47</th>\n",
              "      <td>12</td>\n",
              "    </tr>\n",
              "    <tr>\n",
              "      <th>88</th>\n",
              "      <td>7</td>\n",
              "    </tr>\n",
              "    <tr>\n",
              "      <th>27</th>\n",
              "      <td>5</td>\n",
              "    </tr>\n",
              "    <tr>\n",
              "      <th>23</th>\n",
              "      <td>5</td>\n",
              "    </tr>\n",
              "    <tr>\n",
              "      <th>38</th>\n",
              "      <td>4</td>\n",
              "    </tr>\n",
              "    <tr>\n",
              "      <th>14</th>\n",
              "      <td>4</td>\n",
              "    </tr>\n",
              "    <tr>\n",
              "      <th>68</th>\n",
              "      <td>2</td>\n",
              "    </tr>\n",
              "    <tr>\n",
              "      <th>11</th>\n",
              "      <td>1</td>\n",
              "    </tr>\n",
              "    <tr>\n",
              "      <th>22</th>\n",
              "      <td>1</td>\n",
              "    </tr>\n",
              "    <tr>\n",
              "      <th>10</th>\n",
              "      <td>1</td>\n",
              "    </tr>\n",
              "  </tbody>\n",
              "</table>\n",
              "</div>"
            ],
            "text/plain": [
              "             fatalities\n",
              "interaction            \n",
              "78                 1265\n",
              "18                  711\n",
              "12                  444\n",
              "17                   27\n",
              "37                   15\n",
              "13                   14\n",
              "80                   14\n",
              "48                   12\n",
              "47                   12\n",
              "88                    7\n",
              "27                    5\n",
              "23                    5\n",
              "38                    4\n",
              "14                    4\n",
              "68                    2\n",
              "11                    1\n",
              "22                    1\n",
              "10                    1"
            ]
          },
          "execution_count": 23,
          "metadata": {},
          "output_type": "execute_result"
        }
      ],
      "source": [
        "ukr_ints"
      ]
    },
    {
      "cell_type": "markdown",
      "metadata": {
        "id": "MRUaYtL_iWkD"
      },
      "source": [
        "# NYT Trends"
      ]
    },
    {
      "cell_type": "code",
      "execution_count": 34,
      "metadata": {
        "colab": {
          "background_save": true,
          "base_uri": "https://localhost:8080/",
          "height": 17
        },
        "id": "5DzoofCHiYsq",
        "outputId": "f33c502a-3641-4406-f409-f86501f2ed05"
      },
      "outputs": [
        {
          "name": "stderr",
          "output_type": "stream",
          "text": [
            "C:\\Users\\Jon\\AppData\\Local\\Temp\\ipykernel_24928\\1579951110.py:7: FutureWarning: In a future version of pandas all arguments of read_csv except for the argument 'filepath_or_buffer' will be keyword-only.\n",
            "  nyt_tig = pd.read_csv(r'C:\\Users\\Jon\\Documents\\GitHub\\comp_jour_fall22\\final project\\data\\times.csv',',')\n"
          ]
        },
        {
          "data": {
            "text/plain": [
              "(48, 7)"
            ]
          },
          "execution_count": 34,
          "metadata": {},
          "output_type": "execute_result"
        }
      ],
      "source": [
        "def containsTig(lst):\n",
        "  if lst.count('Tigrayans (Ethnic Group)') > 0:\n",
        "    return True\n",
        "  else:\n",
        "    return False\n",
        "\n",
        "nyt_tig = pd.read_csv(r'C:\\Users\\Jon\\Documents\\GitHub\\comp_jour_fall22\\final project\\data\\times.csv',',')\n",
        "nyt_tig['tig_tag'] = nyt_tig['keywords'].apply(containsTig)\n",
        "nyt_tig = nyt_tig[(nyt_tig.tig_tag == True)]\n",
        "nyt_tig.shape\n"
      ]
    },
    {
      "cell_type": "code",
      "execution_count": 35,
      "metadata": {},
      "outputs": [
        {
          "name": "stderr",
          "output_type": "stream",
          "text": [
            "C:\\Users\\Jon\\AppData\\Local\\Temp\\ipykernel_24928\\3458763057.py:7: FutureWarning: In a future version of pandas all arguments of read_csv except for the argument 'filepath_or_buffer' will be keyword-only.\n",
            "  nyt_ukr = pd.read_csv(r'C:\\Users\\Jon\\Documents\\GitHub\\comp_jour_fall22\\final project\\data\\times.csv',',')\n"
          ]
        },
        {
          "data": {
            "text/plain": [
              "(3240, 7)"
            ]
          },
          "execution_count": 35,
          "metadata": {},
          "output_type": "execute_result"
        }
      ],
      "source": [
        "def containsUkr(lst):\n",
        "  if lst.count('Russian Invasion of Ukraine (2022)') > 0:\n",
        "    return True\n",
        "  else:\n",
        "    return False\n",
        "\n",
        "nyt_ukr = pd.read_csv(r'C:\\Users\\Jon\\Documents\\GitHub\\comp_jour_fall22\\final project\\data\\times.csv',',')\n",
        "nyt_ukr['ukr_tag'] = nyt_ukr['keywords'].apply(containsUkr)\n",
        "nyt_ukr = nyt_ukr[(nyt_ukr.ukr_tag == True)]\n",
        "nyt_ukr.shape"
      ]
    }
  ],
  "metadata": {
    "colab": {
      "provenance": []
    },
    "kernelspec": {
      "display_name": "Python 3.10.7 64-bit",
      "language": "python",
      "name": "python3"
    },
    "language_info": {
      "codemirror_mode": {
        "name": "ipython",
        "version": 3
      },
      "file_extension": ".py",
      "mimetype": "text/x-python",
      "name": "python",
      "nbconvert_exporter": "python",
      "pygments_lexer": "ipython3",
      "version": "3.10.7"
    },
    "vscode": {
      "interpreter": {
        "hash": "64a2740f6ebe9026daaacffff486007ded21048fc5b57c84f52291ce5a24d159"
      }
    }
  },
  "nbformat": 4,
  "nbformat_minor": 0
}
